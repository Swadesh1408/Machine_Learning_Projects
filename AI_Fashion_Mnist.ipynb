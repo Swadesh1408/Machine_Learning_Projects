{
  "nbformat": 4,
  "nbformat_minor": 0,
  "metadata": {
    "colab": {
      "provenance": []
    },
    "kernelspec": {
      "name": "python3",
      "display_name": "Python 3"
    },
    "language_info": {
      "name": "python"
    }
  },
  "cells": [
    {
      "cell_type": "code",
      "execution_count": null,
      "metadata": {
        "colab": {
          "base_uri": "https://localhost:8080/"
        },
        "id": "c_b1I4E2v4Dl",
        "outputId": "354e6a5f-4e7e-4630-f0c8-45734918566c"
      },
      "outputs": [
        {
          "output_type": "stream",
          "name": "stdout",
          "text": [
            "Downloading data from https://storage.googleapis.com/tensorflow/tf-keras-datasets/train-labels-idx1-ubyte.gz\n",
            "32768/29515 [=================================] - 0s 0us/step\n",
            "40960/29515 [=========================================] - 0s 0us/step\n",
            "Downloading data from https://storage.googleapis.com/tensorflow/tf-keras-datasets/train-images-idx3-ubyte.gz\n",
            "26427392/26421880 [==============================] - 0s 0us/step\n",
            "26435584/26421880 [==============================] - 0s 0us/step\n",
            "Downloading data from https://storage.googleapis.com/tensorflow/tf-keras-datasets/t10k-labels-idx1-ubyte.gz\n",
            "16384/5148 [===============================================================================================] - 0s 0us/step\n",
            "Downloading data from https://storage.googleapis.com/tensorflow/tf-keras-datasets/t10k-images-idx3-ubyte.gz\n",
            "4423680/4422102 [==============================] - 0s 0us/step\n",
            "4431872/4422102 [==============================] - 0s 0us/step\n"
          ]
        }
      ],
      "source": [
        "import tensorflow as tf\n",
        "from matplotlib import pyplot as plt\n",
        "(x_train, y_train),(x_test, y_test)=tf.keras.datasets.fashion_mnist.load_data()"
      ]
    },
    {
      "cell_type": "code",
      "source": [
        "x_train.shape"
      ],
      "metadata": {
        "colab": {
          "base_uri": "https://localhost:8080/",
          "height": 165
        },
        "id": "cMqiqQUKwOPD",
        "outputId": "c0095486-837b-411d-f0e2-f71f04532c11"
      },
      "execution_count": null,
      "outputs": [
        {
          "output_type": "error",
          "ename": "NameError",
          "evalue": "ignored",
          "traceback": [
            "\u001b[0;31m---------------------------------------------------------------------------\u001b[0m",
            "\u001b[0;31mNameError\u001b[0m                                 Traceback (most recent call last)",
            "\u001b[0;32m<ipython-input-1-2132a220a582>\u001b[0m in \u001b[0;36m<module>\u001b[0;34m\u001b[0m\n\u001b[0;32m----> 1\u001b[0;31m \u001b[0mx_train\u001b[0m\u001b[0;34m.\u001b[0m\u001b[0mshape\u001b[0m\u001b[0;34m\u001b[0m\u001b[0;34m\u001b[0m\u001b[0m\n\u001b[0m",
            "\u001b[0;31mNameError\u001b[0m: name 'x_train' is not defined"
          ]
        }
      ]
    },
    {
      "cell_type": "code",
      "source": [
        "y_train"
      ],
      "metadata": {
        "colab": {
          "base_uri": "https://localhost:8080/"
        },
        "id": "FYsWl9zbwShj",
        "outputId": "f76680d9-ade2-4e97-c9ca-603f0a782835"
      },
      "execution_count": null,
      "outputs": [
        {
          "output_type": "execute_result",
          "data": {
            "text/plain": [
              "array([9, 0, 0, ..., 3, 0, 5], dtype=uint8)"
            ]
          },
          "metadata": {},
          "execution_count": 3
        }
      ]
    },
    {
      "cell_type": "code",
      "source": [
        "from matplotlib import pyplot as plt"
      ],
      "metadata": {
        "id": "ihkF80UAwrYP"
      },
      "execution_count": null,
      "outputs": []
    },
    {
      "cell_type": "code",
      "source": [
        "for i in range(0,9):\n",
        "  plt.figure(figsize=(3,3))\n",
        "  img=x_train[i]\n",
        "  plt.imshow(img,cmap=\"gray\")\n",
        "  print(\"Label is :\",y_train[i])\n",
        "  plt.show()"
      ],
      "metadata": {
        "colab": {
          "base_uri": "https://localhost:8080/",
          "height": 1000
        },
        "id": "Zf0XLhQhwVmd",
        "outputId": "85083cc6-cd8a-4d3a-ee51-4c5bfcf07c3f"
      },
      "execution_count": null,
      "outputs": [
        {
          "output_type": "stream",
          "name": "stdout",
          "text": [
            "Label is : 9\n"
          ]
        },
        {
          "output_type": "display_data",
          "data": {
            "image/png": "[encoded data removed]",
            "text/plain": [
              "<Figure size 216x216 with 1 Axes>"
            ]
          },
          "metadata": {
            "needs_background": "light"
          }
        },
        {
          "output_type": "stream",
          "name": "stdout",
          "text": [
            "Label is : 0\n"
          ]
        },
        {
          "output_type": "display_data",
          "data": {
            "image/png": "[encoded data removed]",
            "text/plain": [
              "<Figure size 216x216 with 1 Axes>"
            ]
          },
          "metadata": {
            "needs_background": "light"
          }
        },
        {
          "output_type": "stream",
          "name": "stdout",
          "text": [
            "Label is : 0\n"
          ]
        },
        {
          "output_type": "display_data",
          "data": {
            "image/png": "[encoded data removed]",
            "text/plain": [
              "<Figure size 216x216 with 1 Axes>"
            ]
          },
          "metadata": {
            "needs_background": "light"
          }
        },
        {
          "output_type": "stream",
          "name": "stdout",
          "text": [
            "Label is : 3\n"
          ]
        },
        {
          "output_type": "display_data",
          "data": {
            "image/png": "[encoded data removed]",
            "text/plain": [
              "<Figure size 216x216 with 1 Axes>"
            ]
          },
          "metadata": {
            "needs_background": "light"
          }
        },
        {
          "output_type": "stream",
          "name": "stdout",
          "text": [
            "Label is : 0\n"
          ]
        },
        {
          "output_type": "display_data",
          "data": {
            "image/png": "[encoded data removed]",
            "text/plain": [
              "<Figure size 216x216 with 1 Axes>"
            ]
          },
          "metadata": {
            "needs_background": "light"
          }
        },
        {
          "output_type": "stream",
          "name": "stdout",
          "text": [
            "Label is : 2\n"
          ]
        },
        {
          "output_type": "display_data",
          "data": {
            "image/png": "[encoded data removed]",
            "text/plain": [
              "<Figure size 216x216 with 1 Axes>"
            ]
          },
          "metadata": {
            "needs_background": "light"
          }
        },
        {
          "output_type": "stream",
          "name": "stdout",
          "text": [
            "Label is : 7\n"
          ]
        },
        {
          "output_type": "display_data",
          "data": {
            "image/png": "[encoded data removed]",
            "text/plain": [
              "<Figure size 216x216 with 1 Axes>"
            ]
          },
          "metadata": {
            "needs_background": "light"
          }
        },
        {
          "output_type": "stream",
          "name": "stdout",
          "text": [
            "Label is : 2\n"
          ]
        },
        {
          "output_type": "display_data",
          "data": {
            "image/png": "[encoded data removed]",
            "text/plain": [
              "<Figure size 216x216 with 1 Axes>"
            ]
          },
          "metadata": {
            "needs_background": "light"
          }
        },
        {
          "output_type": "stream",
          "name": "stdout",
          "text": [
            "Label is : 5\n"
          ]
        },
        {
          "output_type": "display_data",
          "data": {
            "image/png": "[encoded data removed]",
            "text/plain": [
              "<Figure size 216x216 with 1 Axes>"
            ]
          },
          "metadata": {
            "needs_background": "light"
          }
        }
      ]
    },
    {
      "cell_type": "code",
      "source": [
        "x_train.ndim"
      ],
      "metadata": {
        "colab": {
          "base_uri": "https://localhost:8080/"
        },
        "id": "S63TjBuMwrVX",
        "outputId": "dd61e92a-f238-4897-a26e-f18af089c1f3"
      },
      "execution_count": null,
      "outputs": [
        {
          "output_type": "execute_result",
          "data": {
            "text/plain": [
              "3"
            ]
          },
          "metadata": {},
          "execution_count": 9
        }
      ]
    },
    {
      "cell_type": "code",
      "source": [
        "x_train=x_train.reshape(x_train.shape[0], 28, 28, 1)\n",
        "x_test=x_test.reshape(x_test.shape[0], 28, 28, 1)\n",
        "input_shape= (28, 28, 1)"
      ],
      "metadata": {
        "id": "23e0PMCMxRl-"
      },
      "execution_count": null,
      "outputs": []
    },
    {
      "cell_type": "code",
      "source": [
        "x_train.shape"
      ],
      "metadata": {
        "colab": {
          "base_uri": "https://localhost:8080/"
        },
        "id": "OtUtVa2zxWGa",
        "outputId": "884f8d13-e2a9-4604-aa29-9f33557cfff3"
      },
      "execution_count": null,
      "outputs": [
        {
          "output_type": "execute_result",
          "data": {
            "text/plain": [
              "(60000, 28, 28, 1)"
            ]
          },
          "metadata": {},
          "execution_count": 11
        }
      ]
    },
    {
      "cell_type": "code",
      "source": [
        "x_train = x_train.astype('float32')\n",
        "x_test = x_test.astype('float32')\n",
        "x_train = x_train / 255\n",
        "x_test = x_test / 255\n",
        "print(x_train.shape)\n",
        "print(x_test.shape)"
      ],
      "metadata": {
        "colab": {
          "base_uri": "https://localhost:8080/"
        },
        "id": "kGN6nhQ4xaUN",
        "outputId": "2201be8e-3b28-4d86-a079-1205c5ba6fde"
      },
      "execution_count": null,
      "outputs": [
        {
          "output_type": "stream",
          "name": "stdout",
          "text": [
            "(60000, 28, 28, 1)\n",
            "(10000, 28, 28, 1)\n"
          ]
        }
      ]
    },
    {
      "cell_type": "code",
      "source": [
        "print(x_train[0])"
      ],
      "metadata": {
        "colab": {
          "base_uri": "https://localhost:8080/"
        },
        "id": "eIGRtAHvx-WU",
        "outputId": "398ba6eb-2155-40dc-fbd1-d8e9284dfc4d"
      },
      "execution_count": null,
      "outputs": [
        {
          "output_type": "stream",
          "name": "stdout",
          "text": [
            "[[[0.        ]\n",
            "  [0.        ]\n",
            "  [0.        ]\n",
            "  [0.        ]\n",
            "  [0.        ]\n",
            "  [0.        ]\n",
            "  [0.        ]\n",
            "  [0.        ]\n",
            "  [0.        ]\n",
            "  [0.        ]\n",
            "  [0.        ]\n",
            "  [0.        ]\n",
            "  [0.        ]\n",
            "  [0.        ]\n",
            "  [0.        ]\n",
            "  [0.        ]\n",
            "  [0.        ]\n",
            "  [0.        ]\n",
            "  [0.        ]\n",
            "  [0.        ]\n",
            "  [0.        ]\n",
            "  [0.        ]\n",
            "  [0.        ]\n",
            "  [0.        ]\n",
            "  [0.        ]\n",
            "  [0.        ]\n",
            "  [0.        ]\n",
            "  [0.        ]]\n",
            "\n",
            " [[0.        ]\n",
            "  [0.        ]\n",
            "  [0.        ]\n",
            "  [0.        ]\n",
            "  [0.        ]\n",
            "  [0.        ]\n",
            "  [0.        ]\n",
            "  [0.        ]\n",
            "  [0.        ]\n",
            "  [0.        ]\n",
            "  [0.        ]\n",
            "  [0.        ]\n",
            "  [0.        ]\n",
            "  [0.        ]\n",
            "  [0.        ]\n",
            "  [0.        ]\n",
            "  [0.        ]\n",
            "  [0.        ]\n",
            "  [0.        ]\n",
            "  [0.        ]\n",
            "  [0.        ]\n",
            "  [0.        ]\n",
            "  [0.        ]\n",
            "  [0.        ]\n",
            "  [0.        ]\n",
            "  [0.        ]\n",
            "  [0.        ]\n",
            "  [0.        ]]\n",
            "\n",
            " [[0.        ]\n",
            "  [0.        ]\n",
            "  [0.        ]\n",
            "  [0.        ]\n",
            "  [0.        ]\n",
            "  [0.        ]\n",
            "  [0.        ]\n",
            "  [0.        ]\n",
            "  [0.        ]\n",
            "  [0.        ]\n",
            "  [0.        ]\n",
            "  [0.        ]\n",
            "  [0.        ]\n",
            "  [0.        ]\n",
            "  [0.        ]\n",
            "  [0.        ]\n",
            "  [0.        ]\n",
            "  [0.        ]\n",
            "  [0.        ]\n",
            "  [0.        ]\n",
            "  [0.        ]\n",
            "  [0.        ]\n",
            "  [0.        ]\n",
            "  [0.        ]\n",
            "  [0.        ]\n",
            "  [0.        ]\n",
            "  [0.        ]\n",
            "  [0.        ]]\n",
            "\n",
            " [[0.        ]\n",
            "  [0.        ]\n",
            "  [0.        ]\n",
            "  [0.        ]\n",
            "  [0.        ]\n",
            "  [0.        ]\n",
            "  [0.        ]\n",
            "  [0.        ]\n",
            "  [0.        ]\n",
            "  [0.        ]\n",
            "  [0.        ]\n",
            "  [0.        ]\n",
            "  [0.00392157]\n",
            "  [0.        ]\n",
            "  [0.        ]\n",
            "  [0.05098039]\n",
            "  [0.28627452]\n",
            "  [0.        ]\n",
            "  [0.        ]\n",
            "  [0.00392157]\n",
            "  [0.01568628]\n",
            "  [0.        ]\n",
            "  [0.        ]\n",
            "  [0.        ]\n",
            "  [0.        ]\n",
            "  [0.00392157]\n",
            "  [0.00392157]\n",
            "  [0.        ]]\n",
            "\n",
            " [[0.        ]\n",
            "  [0.        ]\n",
            "  [0.        ]\n",
            "  [0.        ]\n",
            "  [0.        ]\n",
            "  [0.        ]\n",
            "  [0.        ]\n",
            "  [0.        ]\n",
            "  [0.        ]\n",
            "  [0.        ]\n",
            "  [0.        ]\n",
            "  [0.        ]\n",
            "  [0.01176471]\n",
            "  [0.        ]\n",
            "  [0.14117648]\n",
            "  [0.53333336]\n",
            "  [0.49803922]\n",
            "  [0.24313726]\n",
            "  [0.21176471]\n",
            "  [0.        ]\n",
            "  [0.        ]\n",
            "  [0.        ]\n",
            "  [0.00392157]\n",
            "  [0.01176471]\n",
            "  [0.01568628]\n",
            "  [0.        ]\n",
            "  [0.        ]\n",
            "  [0.01176471]]\n",
            "\n",
            " [[0.        ]\n",
            "  [0.        ]\n",
            "  [0.        ]\n",
            "  [0.        ]\n",
            "  [0.        ]\n",
            "  [0.        ]\n",
            "  [0.        ]\n",
            "  [0.        ]\n",
            "  [0.        ]\n",
            "  [0.        ]\n",
            "  [0.        ]\n",
            "  [0.        ]\n",
            "  [0.02352941]\n",
            "  [0.        ]\n",
            "  [0.4       ]\n",
            "  [0.8       ]\n",
            "  [0.6901961 ]\n",
            "  [0.5254902 ]\n",
            "  [0.5647059 ]\n",
            "  [0.48235294]\n",
            "  [0.09019608]\n",
            "  [0.        ]\n",
            "  [0.        ]\n",
            "  [0.        ]\n",
            "  [0.        ]\n",
            "  [0.04705882]\n",
            "  [0.03921569]\n",
            "  [0.        ]]\n",
            "\n",
            " [[0.        ]\n",
            "  [0.        ]\n",
            "  [0.        ]\n",
            "  [0.        ]\n",
            "  [0.        ]\n",
            "  [0.        ]\n",
            "  [0.        ]\n",
            "  [0.        ]\n",
            "  [0.        ]\n",
            "  [0.        ]\n",
            "  [0.        ]\n",
            "  [0.        ]\n",
            "  [0.        ]\n",
            "  [0.        ]\n",
            "  [0.60784316]\n",
            "  [0.9254902 ]\n",
            "  [0.8117647 ]\n",
            "  [0.69803923]\n",
            "  [0.41960785]\n",
            "  [0.6117647 ]\n",
            "  [0.6313726 ]\n",
            "  [0.42745098]\n",
            "  [0.2509804 ]\n",
            "  [0.09019608]\n",
            "  [0.3019608 ]\n",
            "  [0.50980395]\n",
            "  [0.28235295]\n",
            "  [0.05882353]]\n",
            "\n",
            " [[0.        ]\n",
            "  [0.        ]\n",
            "  [0.        ]\n",
            "  [0.        ]\n",
            "  [0.        ]\n",
            "  [0.        ]\n",
            "  [0.        ]\n",
            "  [0.        ]\n",
            "  [0.        ]\n",
            "  [0.        ]\n",
            "  [0.        ]\n",
            "  [0.00392157]\n",
            "  [0.        ]\n",
            "  [0.27058825]\n",
            "  [0.8117647 ]\n",
            "  [0.8745098 ]\n",
            "  [0.85490197]\n",
            "  [0.84705883]\n",
            "  [0.84705883]\n",
            "  [0.6392157 ]\n",
            "  [0.49803922]\n",
            "  [0.4745098 ]\n",
            "  [0.47843137]\n",
            "  [0.57254905]\n",
            "  [0.5529412 ]\n",
            "  [0.34509805]\n",
            "  [0.6745098 ]\n",
            "  [0.25882354]]\n",
            "\n",
            " [[0.        ]\n",
            "  [0.        ]\n",
            "  [0.        ]\n",
            "  [0.        ]\n",
            "  [0.        ]\n",
            "  [0.        ]\n",
            "  [0.        ]\n",
            "  [0.        ]\n",
            "  [0.        ]\n",
            "  [0.00392157]\n",
            "  [0.00392157]\n",
            "  [0.00392157]\n",
            "  [0.        ]\n",
            "  [0.78431374]\n",
            "  [0.9098039 ]\n",
            "  [0.9098039 ]\n",
            "  [0.9137255 ]\n",
            "  [0.8980392 ]\n",
            "  [0.8745098 ]\n",
            "  [0.8745098 ]\n",
            "  [0.84313726]\n",
            "  [0.8352941 ]\n",
            "  [0.6431373 ]\n",
            "  [0.49803922]\n",
            "  [0.48235294]\n",
            "  [0.76862746]\n",
            "  [0.8980392 ]\n",
            "  [0.        ]]\n",
            "\n",
            " [[0.        ]\n",
            "  [0.        ]\n",
            "  [0.        ]\n",
            "  [0.        ]\n",
            "  [0.        ]\n",
            "  [0.        ]\n",
            "  [0.        ]\n",
            "  [0.        ]\n",
            "  [0.        ]\n",
            "  [0.        ]\n",
            "  [0.        ]\n",
            "  [0.        ]\n",
            "  [0.        ]\n",
            "  [0.7176471 ]\n",
            "  [0.88235295]\n",
            "  [0.84705883]\n",
            "  [0.8745098 ]\n",
            "  [0.89411765]\n",
            "  [0.92156863]\n",
            "  [0.8901961 ]\n",
            "  [0.8784314 ]\n",
            "  [0.87058824]\n",
            "  [0.8784314 ]\n",
            "  [0.8666667 ]\n",
            "  [0.8745098 ]\n",
            "  [0.9607843 ]\n",
            "  [0.6784314 ]\n",
            "  [0.        ]]\n",
            "\n",
            " [[0.        ]\n",
            "  [0.        ]\n",
            "  [0.        ]\n",
            "  [0.        ]\n",
            "  [0.        ]\n",
            "  [0.        ]\n",
            "  [0.        ]\n",
            "  [0.        ]\n",
            "  [0.        ]\n",
            "  [0.        ]\n",
            "  [0.        ]\n",
            "  [0.        ]\n",
            "  [0.        ]\n",
            "  [0.75686276]\n",
            "  [0.89411765]\n",
            "  [0.85490197]\n",
            "  [0.8352941 ]\n",
            "  [0.7764706 ]\n",
            "  [0.7058824 ]\n",
            "  [0.83137256]\n",
            "  [0.8235294 ]\n",
            "  [0.827451  ]\n",
            "  [0.8352941 ]\n",
            "  [0.8745098 ]\n",
            "  [0.8627451 ]\n",
            "  [0.9529412 ]\n",
            "  [0.7921569 ]\n",
            "  [0.        ]]\n",
            "\n",
            " [[0.        ]\n",
            "  [0.        ]\n",
            "  [0.        ]\n",
            "  [0.        ]\n",
            "  [0.        ]\n",
            "  [0.        ]\n",
            "  [0.        ]\n",
            "  [0.        ]\n",
            "  [0.        ]\n",
            "  [0.00392157]\n",
            "  [0.01176471]\n",
            "  [0.        ]\n",
            "  [0.04705882]\n",
            "  [0.85882354]\n",
            "  [0.8627451 ]\n",
            "  [0.83137256]\n",
            "  [0.85490197]\n",
            "  [0.7529412 ]\n",
            "  [0.6627451 ]\n",
            "  [0.8901961 ]\n",
            "  [0.8156863 ]\n",
            "  [0.85490197]\n",
            "  [0.8784314 ]\n",
            "  [0.83137256]\n",
            "  [0.8862745 ]\n",
            "  [0.77254903]\n",
            "  [0.81960785]\n",
            "  [0.20392157]]\n",
            "\n",
            " [[0.        ]\n",
            "  [0.        ]\n",
            "  [0.        ]\n",
            "  [0.        ]\n",
            "  [0.        ]\n",
            "  [0.        ]\n",
            "  [0.        ]\n",
            "  [0.        ]\n",
            "  [0.        ]\n",
            "  [0.        ]\n",
            "  [0.02352941]\n",
            "  [0.        ]\n",
            "  [0.3882353 ]\n",
            "  [0.95686275]\n",
            "  [0.87058824]\n",
            "  [0.8627451 ]\n",
            "  [0.85490197]\n",
            "  [0.79607844]\n",
            "  [0.7764706 ]\n",
            "  [0.8666667 ]\n",
            "  [0.84313726]\n",
            "  [0.8352941 ]\n",
            "  [0.87058824]\n",
            "  [0.8627451 ]\n",
            "  [0.9607843 ]\n",
            "  [0.46666667]\n",
            "  [0.654902  ]\n",
            "  [0.21960784]]\n",
            "\n",
            " [[0.        ]\n",
            "  [0.        ]\n",
            "  [0.        ]\n",
            "  [0.        ]\n",
            "  [0.        ]\n",
            "  [0.        ]\n",
            "  [0.        ]\n",
            "  [0.        ]\n",
            "  [0.        ]\n",
            "  [0.01568628]\n",
            "  [0.        ]\n",
            "  [0.        ]\n",
            "  [0.21568628]\n",
            "  [0.9254902 ]\n",
            "  [0.89411765]\n",
            "  [0.9019608 ]\n",
            "  [0.89411765]\n",
            "  [0.9411765 ]\n",
            "  [0.9098039 ]\n",
            "  [0.8352941 ]\n",
            "  [0.85490197]\n",
            "  [0.8745098 ]\n",
            "  [0.91764706]\n",
            "  [0.8509804 ]\n",
            "  [0.8509804 ]\n",
            "  [0.81960785]\n",
            "  [0.36078432]\n",
            "  [0.        ]]\n",
            "\n",
            " [[0.        ]\n",
            "  [0.        ]\n",
            "  [0.00392157]\n",
            "  [0.01568628]\n",
            "  [0.02352941]\n",
            "  [0.02745098]\n",
            "  [0.00784314]\n",
            "  [0.        ]\n",
            "  [0.        ]\n",
            "  [0.        ]\n",
            "  [0.        ]\n",
            "  [0.        ]\n",
            "  [0.92941177]\n",
            "  [0.8862745 ]\n",
            "  [0.8509804 ]\n",
            "  [0.8745098 ]\n",
            "  [0.87058824]\n",
            "  [0.85882354]\n",
            "  [0.87058824]\n",
            "  [0.8666667 ]\n",
            "  [0.84705883]\n",
            "  [0.8745098 ]\n",
            "  [0.8980392 ]\n",
            "  [0.84313726]\n",
            "  [0.85490197]\n",
            "  [1.        ]\n",
            "  [0.3019608 ]\n",
            "  [0.        ]]\n",
            "\n",
            " [[0.        ]\n",
            "  [0.01176471]\n",
            "  [0.        ]\n",
            "  [0.        ]\n",
            "  [0.        ]\n",
            "  [0.        ]\n",
            "  [0.        ]\n",
            "  [0.        ]\n",
            "  [0.        ]\n",
            "  [0.24313726]\n",
            "  [0.5686275 ]\n",
            "  [0.8       ]\n",
            "  [0.89411765]\n",
            "  [0.8117647 ]\n",
            "  [0.8352941 ]\n",
            "  [0.8666667 ]\n",
            "  [0.85490197]\n",
            "  [0.8156863 ]\n",
            "  [0.827451  ]\n",
            "  [0.85490197]\n",
            "  [0.8784314 ]\n",
            "  [0.8745098 ]\n",
            "  [0.85882354]\n",
            "  [0.84313726]\n",
            "  [0.8784314 ]\n",
            "  [0.95686275]\n",
            "  [0.62352943]\n",
            "  [0.        ]]\n",
            "\n",
            " [[0.        ]\n",
            "  [0.        ]\n",
            "  [0.        ]\n",
            "  [0.        ]\n",
            "  [0.07058824]\n",
            "  [0.17254902]\n",
            "  [0.32156864]\n",
            "  [0.41960785]\n",
            "  [0.7411765 ]\n",
            "  [0.89411765]\n",
            "  [0.8627451 ]\n",
            "  [0.87058824]\n",
            "  [0.8509804 ]\n",
            "  [0.8862745 ]\n",
            "  [0.78431374]\n",
            "  [0.8039216 ]\n",
            "  [0.827451  ]\n",
            "  [0.9019608 ]\n",
            "  [0.8784314 ]\n",
            "  [0.91764706]\n",
            "  [0.6901961 ]\n",
            "  [0.7372549 ]\n",
            "  [0.98039216]\n",
            "  [0.972549  ]\n",
            "  [0.9137255 ]\n",
            "  [0.93333334]\n",
            "  [0.84313726]\n",
            "  [0.        ]]\n",
            "\n",
            " [[0.        ]\n",
            "  [0.22352941]\n",
            "  [0.73333335]\n",
            "  [0.8156863 ]\n",
            "  [0.8784314 ]\n",
            "  [0.8666667 ]\n",
            "  [0.8784314 ]\n",
            "  [0.8156863 ]\n",
            "  [0.8       ]\n",
            "  [0.8392157 ]\n",
            "  [0.8156863 ]\n",
            "  [0.81960785]\n",
            "  [0.78431374]\n",
            "  [0.62352943]\n",
            "  [0.9607843 ]\n",
            "  [0.75686276]\n",
            "  [0.80784315]\n",
            "  [0.8745098 ]\n",
            "  [1.        ]\n",
            "  [1.        ]\n",
            "  [0.8666667 ]\n",
            "  [0.91764706]\n",
            "  [0.8666667 ]\n",
            "  [0.827451  ]\n",
            "  [0.8627451 ]\n",
            "  [0.9098039 ]\n",
            "  [0.9647059 ]\n",
            "  [0.        ]]\n",
            "\n",
            " [[0.01176471]\n",
            "  [0.7921569 ]\n",
            "  [0.89411765]\n",
            "  [0.8784314 ]\n",
            "  [0.8666667 ]\n",
            "  [0.827451  ]\n",
            "  [0.827451  ]\n",
            "  [0.8392157 ]\n",
            "  [0.8039216 ]\n",
            "  [0.8039216 ]\n",
            "  [0.8039216 ]\n",
            "  [0.8627451 ]\n",
            "  [0.9411765 ]\n",
            "  [0.3137255 ]\n",
            "  [0.5882353 ]\n",
            "  [1.        ]\n",
            "  [0.8980392 ]\n",
            "  [0.8666667 ]\n",
            "  [0.7372549 ]\n",
            "  [0.6039216 ]\n",
            "  [0.7490196 ]\n",
            "  [0.8235294 ]\n",
            "  [0.8       ]\n",
            "  [0.81960785]\n",
            "  [0.87058824]\n",
            "  [0.89411765]\n",
            "  [0.88235295]\n",
            "  [0.        ]]\n",
            "\n",
            " [[0.38431373]\n",
            "  [0.9137255 ]\n",
            "  [0.7764706 ]\n",
            "  [0.8235294 ]\n",
            "  [0.87058824]\n",
            "  [0.8980392 ]\n",
            "  [0.8980392 ]\n",
            "  [0.91764706]\n",
            "  [0.9764706 ]\n",
            "  [0.8627451 ]\n",
            "  [0.7607843 ]\n",
            "  [0.84313726]\n",
            "  [0.8509804 ]\n",
            "  [0.94509804]\n",
            "  [0.25490198]\n",
            "  [0.28627452]\n",
            "  [0.41568628]\n",
            "  [0.45882353]\n",
            "  [0.65882355]\n",
            "  [0.85882354]\n",
            "  [0.8666667 ]\n",
            "  [0.84313726]\n",
            "  [0.8509804 ]\n",
            "  [0.8745098 ]\n",
            "  [0.8745098 ]\n",
            "  [0.8784314 ]\n",
            "  [0.8980392 ]\n",
            "  [0.11372549]]\n",
            "\n",
            " [[0.29411766]\n",
            "  [0.8       ]\n",
            "  [0.83137256]\n",
            "  [0.8       ]\n",
            "  [0.75686276]\n",
            "  [0.8039216 ]\n",
            "  [0.827451  ]\n",
            "  [0.88235295]\n",
            "  [0.84705883]\n",
            "  [0.7254902 ]\n",
            "  [0.77254903]\n",
            "  [0.80784315]\n",
            "  [0.7764706 ]\n",
            "  [0.8352941 ]\n",
            "  [0.9411765 ]\n",
            "  [0.7647059 ]\n",
            "  [0.8901961 ]\n",
            "  [0.9607843 ]\n",
            "  [0.9372549 ]\n",
            "  [0.8745098 ]\n",
            "  [0.85490197]\n",
            "  [0.83137256]\n",
            "  [0.81960785]\n",
            "  [0.87058824]\n",
            "  [0.8627451 ]\n",
            "  [0.8666667 ]\n",
            "  [0.9019608 ]\n",
            "  [0.2627451 ]]\n",
            "\n",
            " [[0.1882353 ]\n",
            "  [0.79607844]\n",
            "  [0.7176471 ]\n",
            "  [0.7607843 ]\n",
            "  [0.8352941 ]\n",
            "  [0.77254903]\n",
            "  [0.7254902 ]\n",
            "  [0.74509805]\n",
            "  [0.7607843 ]\n",
            "  [0.7529412 ]\n",
            "  [0.7921569 ]\n",
            "  [0.8392157 ]\n",
            "  [0.85882354]\n",
            "  [0.8666667 ]\n",
            "  [0.8627451 ]\n",
            "  [0.9254902 ]\n",
            "  [0.88235295]\n",
            "  [0.84705883]\n",
            "  [0.78039217]\n",
            "  [0.80784315]\n",
            "  [0.7294118 ]\n",
            "  [0.70980394]\n",
            "  [0.69411767]\n",
            "  [0.6745098 ]\n",
            "  [0.70980394]\n",
            "  [0.8039216 ]\n",
            "  [0.80784315]\n",
            "  [0.4509804 ]]\n",
            "\n",
            " [[0.        ]\n",
            "  [0.47843137]\n",
            "  [0.85882354]\n",
            "  [0.75686276]\n",
            "  [0.7019608 ]\n",
            "  [0.67058825]\n",
            "  [0.7176471 ]\n",
            "  [0.76862746]\n",
            "  [0.8       ]\n",
            "  [0.8235294 ]\n",
            "  [0.8352941 ]\n",
            "  [0.8117647 ]\n",
            "  [0.827451  ]\n",
            "  [0.8235294 ]\n",
            "  [0.78431374]\n",
            "  [0.76862746]\n",
            "  [0.7607843 ]\n",
            "  [0.7490196 ]\n",
            "  [0.7647059 ]\n",
            "  [0.7490196 ]\n",
            "  [0.7764706 ]\n",
            "  [0.7529412 ]\n",
            "  [0.6901961 ]\n",
            "  [0.6117647 ]\n",
            "  [0.654902  ]\n",
            "  [0.69411767]\n",
            "  [0.8235294 ]\n",
            "  [0.36078432]]\n",
            "\n",
            " [[0.        ]\n",
            "  [0.        ]\n",
            "  [0.2901961 ]\n",
            "  [0.7411765 ]\n",
            "  [0.83137256]\n",
            "  [0.7490196 ]\n",
            "  [0.6862745 ]\n",
            "  [0.6745098 ]\n",
            "  [0.6862745 ]\n",
            "  [0.70980394]\n",
            "  [0.7254902 ]\n",
            "  [0.7372549 ]\n",
            "  [0.7411765 ]\n",
            "  [0.7372549 ]\n",
            "  [0.75686276]\n",
            "  [0.7764706 ]\n",
            "  [0.8       ]\n",
            "  [0.81960785]\n",
            "  [0.8235294 ]\n",
            "  [0.8235294 ]\n",
            "  [0.827451  ]\n",
            "  [0.7372549 ]\n",
            "  [0.7372549 ]\n",
            "  [0.7607843 ]\n",
            "  [0.7529412 ]\n",
            "  [0.84705883]\n",
            "  [0.6666667 ]\n",
            "  [0.        ]]\n",
            "\n",
            " [[0.00784314]\n",
            "  [0.        ]\n",
            "  [0.        ]\n",
            "  [0.        ]\n",
            "  [0.25882354]\n",
            "  [0.78431374]\n",
            "  [0.87058824]\n",
            "  [0.92941177]\n",
            "  [0.9372549 ]\n",
            "  [0.9490196 ]\n",
            "  [0.9647059 ]\n",
            "  [0.9529412 ]\n",
            "  [0.95686275]\n",
            "  [0.8666667 ]\n",
            "  [0.8627451 ]\n",
            "  [0.75686276]\n",
            "  [0.7490196 ]\n",
            "  [0.7019608 ]\n",
            "  [0.7137255 ]\n",
            "  [0.7137255 ]\n",
            "  [0.70980394]\n",
            "  [0.6901961 ]\n",
            "  [0.6509804 ]\n",
            "  [0.65882355]\n",
            "  [0.3882353 ]\n",
            "  [0.22745098]\n",
            "  [0.        ]\n",
            "  [0.        ]]\n",
            "\n",
            " [[0.        ]\n",
            "  [0.        ]\n",
            "  [0.        ]\n",
            "  [0.        ]\n",
            "  [0.        ]\n",
            "  [0.        ]\n",
            "  [0.        ]\n",
            "  [0.15686275]\n",
            "  [0.23921569]\n",
            "  [0.17254902]\n",
            "  [0.28235295]\n",
            "  [0.16078432]\n",
            "  [0.13725491]\n",
            "  [0.        ]\n",
            "  [0.        ]\n",
            "  [0.        ]\n",
            "  [0.        ]\n",
            "  [0.        ]\n",
            "  [0.        ]\n",
            "  [0.        ]\n",
            "  [0.        ]\n",
            "  [0.        ]\n",
            "  [0.        ]\n",
            "  [0.        ]\n",
            "  [0.        ]\n",
            "  [0.        ]\n",
            "  [0.        ]\n",
            "  [0.        ]]\n",
            "\n",
            " [[0.        ]\n",
            "  [0.        ]\n",
            "  [0.        ]\n",
            "  [0.        ]\n",
            "  [0.        ]\n",
            "  [0.        ]\n",
            "  [0.        ]\n",
            "  [0.        ]\n",
            "  [0.        ]\n",
            "  [0.        ]\n",
            "  [0.        ]\n",
            "  [0.        ]\n",
            "  [0.        ]\n",
            "  [0.        ]\n",
            "  [0.        ]\n",
            "  [0.        ]\n",
            "  [0.        ]\n",
            "  [0.        ]\n",
            "  [0.        ]\n",
            "  [0.        ]\n",
            "  [0.        ]\n",
            "  [0.        ]\n",
            "  [0.        ]\n",
            "  [0.        ]\n",
            "  [0.        ]\n",
            "  [0.        ]\n",
            "  [0.        ]\n",
            "  [0.        ]]\n",
            "\n",
            " [[0.        ]\n",
            "  [0.        ]\n",
            "  [0.        ]\n",
            "  [0.        ]\n",
            "  [0.        ]\n",
            "  [0.        ]\n",
            "  [0.        ]\n",
            "  [0.        ]\n",
            "  [0.        ]\n",
            "  [0.        ]\n",
            "  [0.        ]\n",
            "  [0.        ]\n",
            "  [0.        ]\n",
            "  [0.        ]\n",
            "  [0.        ]\n",
            "  [0.        ]\n",
            "  [0.        ]\n",
            "  [0.        ]\n",
            "  [0.        ]\n",
            "  [0.        ]\n",
            "  [0.        ]\n",
            "  [0.        ]\n",
            "  [0.        ]\n",
            "  [0.        ]\n",
            "  [0.        ]\n",
            "  [0.        ]\n",
            "  [0.        ]\n",
            "  [0.        ]]]\n"
          ]
        }
      ]
    },
    {
      "cell_type": "code",
      "source": [
        "from tensorflow.keras.models import Sequential\n",
        "from tensorflow.keras.layers import Dense, Dropout, Conv2D, MaxPooling2D, Flatten\n",
        "model = Sequential()\n",
        "model.add(Conv2D(28, kernel_size=(3,3), input_shape=input_shape))\n",
        "model.add(MaxPooling2D(pool_size=(2,2)))\n",
        "model.add(Flatten())\n",
        "model.add(Dense(128, activation=tf.nn.relu))\n",
        "model.add(Dropout(0.1))\n",
        "model.add(Dense(10,activation=tf.nn.softmax))\n"
      ],
      "metadata": {
        "id": "_SosOnPb01iG"
      },
      "execution_count": null,
      "outputs": []
    },
    {
      "cell_type": "code",
      "source": [
        "model.compile(optimizer='adam', loss='sparse_categorical_crossentropy', metrics=['accuracy'])\n",
        "model.fit(x=x_train,y=y_train, epochs=6)"
      ],
      "metadata": {
        "colab": {
          "base_uri": "https://localhost:8080/"
        },
        "id": "AFosDoSEGlEN",
        "outputId": "8329ebda-76ac-423f-c433-ac773465da9c"
      },
      "execution_count": null,
      "outputs": [
        {
          "output_type": "stream",
          "name": "stdout",
          "text": [
            "Epoch 1/6\n",
            "1875/1875 [==============================] - 32s 17ms/step - loss: 0.4110 - accuracy: 0.8516\n",
            "Epoch 2/6\n",
            "1875/1875 [==============================] - 30s 16ms/step - loss: 0.2770 - accuracy: 0.8999\n",
            "Epoch 3/6\n",
            "1875/1875 [==============================] - 30s 16ms/step - loss: 0.2288 - accuracy: 0.9159\n",
            "Epoch 4/6\n",
            "1875/1875 [==============================] - 28s 15ms/step - loss: 0.1950 - accuracy: 0.9277\n",
            "Epoch 5/6\n",
            "1875/1875 [==============================] - 28s 15ms/step - loss: 0.1668 - accuracy: 0.9391\n",
            "Epoch 6/6\n",
            "1875/1875 [==============================] - 29s 16ms/step - loss: 0.1428 - accuracy: 0.9466\n"
          ]
        },
        {
          "output_type": "execute_result",
          "data": {
            "text/plain": [
              "<keras.callbacks.History at 0x7fcda913b190>"
            ]
          },
          "metadata": {},
          "execution_count": 23
        }
      ]
    },
    {
      "cell_type": "code",
      "source": [
        "model.evaluate(x_test,y_test)"
      ],
      "metadata": {
        "colab": {
          "base_uri": "https://localhost:8080/"
        },
        "id": "1GQjhXPyKuyf",
        "outputId": "9a65f97f-f0c1-4b0f-ce6c-fb1709dde3d2"
      },
      "execution_count": null,
      "outputs": [
        {
          "output_type": "stream",
          "name": "stdout",
          "text": [
            "313/313 [==============================] - 2s 6ms/step - loss: 0.2615 - accuracy: 0.9118\n"
          ]
        },
        {
          "output_type": "execute_result",
          "data": {
            "text/plain": [
              "[0.2615320384502411, 0.9118000268936157]"
            ]
          },
          "metadata": {},
          "execution_count": 24
        }
      ]
    },
    {
      "cell_type": "code",
      "source": [
        "prediction=model.predict(x_test)\n",
        "print(prediction)"
      ],
      "metadata": {
        "colab": {
          "base_uri": "https://localhost:8080/"
        },
        "id": "AyonROLgLbOs",
        "outputId": "4913ac43-d176-44db-cb12-520a7f8f1697"
      },
      "execution_count": null,
      "outputs": [
        {
          "output_type": "stream",
          "name": "stdout",
          "text": [
            "[[2.8355370e-07 1.2785050e-08 1.1098987e-09 ... 8.1677258e-04\n",
            "  1.5554080e-07 9.9918252e-01]\n",
            " [1.4205915e-07 2.5350173e-11 9.9999785e-01 ... 2.6516618e-16\n",
            "  2.4741455e-11 8.2526434e-13]\n",
            " [8.1152323e-14 1.0000000e+00 1.7364945e-15 ... 7.9829431e-18\n",
            "  1.8896751e-17 2.0309682e-20]\n",
            " ...\n",
            " [4.4982016e-06 3.0501594e-11 8.9016421e-06 ... 5.5187482e-10\n",
            "  9.9988127e-01 5.8981309e-10]\n",
            " [3.3532758e-12 1.0000000e+00 4.4762493e-14 ... 9.9317167e-17\n",
            "  2.0209948e-16 2.0988655e-13]\n",
            " [1.1727091e-05 2.6311261e-06 5.6898898e-05 ... 1.2167697e-02\n",
            "  1.6164761e-04 3.6312485e-04]]\n"
          ]
        }
      ]
    },
    {
      "cell_type": "code",
      "source": [
        "print(prediction[9999])"
      ],
      "metadata": {
        "colab": {
          "base_uri": "https://localhost:8080/"
        },
        "id": "IYJxBwCXL2TT",
        "outputId": "a2e4c55b-4035-4905-cd54-966e0080aedb"
      },
      "execution_count": null,
      "outputs": [
        {
          "output_type": "stream",
          "name": "stdout",
          "text": [
            "[1.1727091e-05 2.6311261e-06 5.6898898e-05 1.7237724e-05 1.5998649e-04\n",
            " 9.8702544e-01 3.3712735e-05 1.2167697e-02 1.6164761e-04 3.6312485e-04]\n"
          ]
        }
      ]
    },
    {
      "cell_type": "code",
      "source": [
        "image_index = 9999\n",
        "plt.imshow(x_test[image_index].reshape(28,28),cmap=\"gray\")\n",
        "pred = model.predict(x_test[image_index].reshape(1, 28, 28, 1))\n",
        "\n",
        "p= pred.argmax()\n",
        "D={0:'T-shirt', 1:'Trouser', 2:'Pull-Over', 3:'Dress', 4:'Coat', 5:'Sandals', 6:'Shirts', 7:'Sneakers', 8:'Bag', 9:'Ankle Boots'}\n",
        "print(\"Expected Answer: \",D[p])\n",
        "print(\"Actual Answer: \",D[y_test[image_index]])"
      ],
      "metadata": {
        "colab": {
          "base_uri": "https://localhost:8080/",
          "height": 300
        },
        "id": "mo7cRUP4Mb_P",
        "outputId": "dad7a2f6-63a2-4fb5-d079-6a8cad54742d"
      },
      "execution_count": null,
      "outputs": [
        {
          "output_type": "stream",
          "name": "stdout",
          "text": [
            "Expected Answer:  Sandals\n",
            "Actual Answer:  Sandals\n"
          ]
        },
        {
          "output_type": "display_data",
          "data": {
            "image/png": "[encoded data removed]",
            "text/plain": [
              "<Figure size 432x288 with 1 Axes>"
            ]
          },
          "metadata": {
            "needs_background": "light"
          }
        }
      ]
    },
    {
      "cell_type": "code",
      "source": [
        "plt.imshow(x_test[9999].reshape(28,28),cmap=\"gray\")"
      ],
      "metadata": {
        "colab": {
          "base_uri": "https://localhost:8080/",
          "height": 282
        },
        "id": "IaFs43XZUOa_",
        "outputId": "f316846e-0824-42d0-af4d-8f8ec4b9a6b1"
      },
      "execution_count": null,
      "outputs": [
        {
          "output_type": "execute_result",
          "data": {
            "text/plain": [
              "<matplotlib.image.AxesImage at 0x7fcda17b7610>"
            ]
          },
          "metadata": {},
          "execution_count": 43
        },
        {
          "output_type": "display_data",
          "data": {
            "image/png": "[encoded data removed]",
            "text/plain": [
              "<Figure size 432x288 with 1 Axes>"
            ]
          },
          "metadata": {
            "needs_background": "light"
          }
        }
      ]
    }
  ]
}